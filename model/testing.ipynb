{
 "cells": [
  {
   "cell_type": "code",
   "execution_count": 1,
   "metadata": {},
   "outputs": [],
   "source": [
    "import os\n",
    "import cv2\n",
    "import math\n",
    "import mediapipe as mp\n",
    "import csv\n",
    "\n",
    "import torch\n",
    "from torch import nn\n",
    "mp_pose = mp.solutions.pose\n",
    "\n",
    "def findDistance(x1, y1, x2, y2):\n",
    "    dist = math.sqrt((x2 - x1) ** 2 + (y2 - y1) ** 2)\n",
    "    return dist\n",
    "\n",
    "def findAngle(x1, y1, x2, y2):\n",
    "    if (x2 - x1) == 0 or y1 == 0:\n",
    "        return 0\n",
    "    theta = math.acos((y2 - y1) * (-y1) / (math.sqrt((x2 - x1) ** 2 + (y2 - y1) ** 2) * y1))\n",
    "    degree = int(180 / math.pi) * theta\n",
    "    return degree\n"
   ]
  },
  {
   "cell_type": "code",
   "execution_count": 2,
   "metadata": {},
   "outputs": [],
   "source": [
    "\n",
    "def process_image(image, pose):\n",
    "    if image is None:\n",
    "        print(f\"Failed to read image\")\n",
    "        return\n",
    "\n",
    "    h, w = image.shape[:2]\n",
    "    image_rgb = cv2.cvtColor(image, cv2.COLOR_BGR2RGB)\n",
    "    keypoints = pose.process(image_rgb)\n",
    "    lm = keypoints.pose_landmarks\n",
    "\n",
    "    if lm is not None:\n",
    "        nose_x = lm.landmark[mp_pose.PoseLandmark.NOSE].x * w\n",
    "        nose_y = lm.landmark[mp_pose.PoseLandmark.NOSE].y * h\n",
    "        nose_z = lm.landmark[mp_pose.PoseLandmark.NOSE].z * h  # Calculating Z-axis position\n",
    "\n",
    "        l_shldr_x = lm.landmark[mp_pose.PoseLandmark.LEFT_SHOULDER].x * w\n",
    "        l_shldr_y = lm.landmark[mp_pose.PoseLandmark.LEFT_SHOULDER].y * h\n",
    "        l_shldr_z = lm.landmark[mp_pose.PoseLandmark.LEFT_SHOULDER].z * h\n",
    "        r_shldr_x = lm.landmark[mp_pose.PoseLandmark.RIGHT_SHOULDER].x * w\n",
    "        r_shldr_y = lm.landmark[mp_pose.PoseLandmark.RIGHT_SHOULDER].y * h\n",
    "        r_shldr_z=lm.landmark[mp_pose.PoseLandmark.RIGHT_SHOULDER].z * h\n",
    "\n",
    "        # Write posture data to CSV file\n",
    "        return [nose_x, nose_y, nose_z, l_shldr_x,l_shldr_y,l_shldr_z,r_shldr_x,r_shldr_y,r_shldr_z]\n",
    "    else:\n",
    "        print(f\"No landmarks detected in image \")\n"
   ]
  },
  {
   "cell_type": "code",
   "execution_count": 3,
   "metadata": {},
   "outputs": [],
   "source": [
    "class slouch_detection(nn.Module):\n",
    "    def __init__(self):\n",
    "        super(slouch_detection,self).__init__()\n",
    "        self.layers = nn.Sequential(\n",
    "            nn.Linear(9,36),\n",
    "            nn.ReLU(),\n",
    "            nn.Linear(36,15),\n",
    "            nn.ReLU(),\n",
    "            nn.Dropout(0.2),\n",
    "            nn.Linear(15,12),\n",
    "            nn.ReLU(),\n",
    "            nn.Linear(12,6),\n",
    "            nn.ReLU(),\n",
    "            nn.Linear(6,3),\n",
    "            nn.Dropout(0.2),\n",
    "            nn.ReLU(),\n",
    "            nn.Linear(3,1),\n",
    "            nn.Sigmoid()\n",
    "        )\n",
    "    def forward(self,x):\n",
    "        return self.layers(x)"
   ]
  },
  {
   "cell_type": "code",
   "execution_count": 4,
   "metadata": {},
   "outputs": [],
   "source": [
    "def slouch_detector(x):\n",
    "    model=slouch_detection()\n",
    "    model.load_state_dict(torch.load(\"slouch_detector.pt\"))\n",
    "    ans=model(x)\n",
    "    return ans.item()"
   ]
  },
  {
   "cell_type": "code",
   "execution_count": 5,
   "metadata": {},
   "outputs": [
    {
     "name": "stderr",
     "output_type": "stream",
     "text": [
      "INFO: Created TensorFlow Lite XNNPACK delegate for CPU.\n"
     ]
    },
    {
     "name": "stdout",
     "output_type": "stream",
     "text": [
      "[310.6682777404785, 168.45903396606445, -801.4001083374023, 531.4417266845703, 391.75357818603516, -242.64141082763672, 89.79331970214844, 392.92150497436523, -295.200891494751]\n",
      "0.5303101539611816\n"
     ]
    },
    {
     "name": "stderr",
     "output_type": "stream",
     "text": [
      "Warning: Ignoring XDG_SESSION_TYPE=wayland on Gnome. Use QT_QPA_PLATFORM=wayland to run on Wayland anyway.\n",
      "Qt: Session management error: Could not open network socket\n"
     ]
    },
    {
     "name": "stdout",
     "output_type": "stream",
     "text": [
      "[311.14110946655273, 165.6603240966797, -808.9202499389648, 525.8244705200195, 396.28149032592773, -264.40587043762207, 89.40208435058594, 396.7123603820801, -296.5463447570801]\n",
      "0.0\n",
      "[311.605281829834, 168.20932388305664, -809.2672348022461, 522.8911209106445, 394.8541259765625, -239.66392993927002, 87.1194076538086, 395.40919303894043, -311.1654281616211]\n",
      "0.0\n",
      "[312.33251571655273, 167.5630760192871, -779.4868469238281, 521.8622970581055, 396.44433975219727, -217.1730136871338, 84.08021926879883, 394.8175048828125, -313.0766201019287]\n",
      "0.0\n",
      "[312.69222259521484, 167.68243789672852, -719.2831993103027, 524.3268966674805, 404.70508575439453, -220.0563097000122, 87.50724792480469, 394.9709129333496, -281.661901473999]\n",
      "0.0\n",
      "[317.3860549926758, 164.4403839111328, -691.054859161377, 532.28759765625, 399.8083305358887, -214.63271141052246, 86.43091201782227, 398.4346389770508, -275.96766471862793]\n",
      "0.0\n",
      "[315.2573585510254, 161.32261276245117, -733.5836219787598, 529.8509979248047, 394.27831649780273, -205.7516384124756, 88.30989837646484, 398.32408905029297, -302.1281147003174]\n",
      "0.0\n",
      "[315.3214645385742, 159.0439796447754, -777.396354675293, 529.7046661376953, 398.79106521606445, -237.65095710754395, 88.77031326293945, 400.4454231262207, -313.69105339050293]\n",
      "0.0\n",
      "[315.23685455322266, 161.77162170410156, -776.5506362915039, 526.1338043212891, 395.50878524780273, -234.32393074035645, 88.84288787841797, 398.2042980194092, -310.86341857910156]\n",
      "0.0\n",
      "[314.65038299560547, 159.94641780853271, -776.5732955932617, 526.38427734375, 396.86182022094727, -243.34814071655273, 89.26666259765625, 397.3638725280762, -302.58090019226074]\n",
      "0.0\n",
      "[312.78820037841797, 160.50275802612305, -689.0270805358887, 526.119499206543, 393.13642501831055, -208.1376600265503, 89.48640823364258, 397.9182243347168, -271.541805267334]\n",
      "0.0\n",
      "[313.9211654663086, 160.35382747650146, -743.3214569091797, 524.950065612793, 397.8201484680176, -231.72516345977783, 88.90167236328125, 399.6426200866699, -294.2703437805176]\n",
      "0.0\n",
      "[312.9256248474121, 159.61097717285156, -631.3651657104492, 526.6500091552734, 398.3081245422363, -187.9745578765869, 86.85358047485352, 399.6812438964844, -272.04182624816895]\n",
      "0.0\n",
      "[312.8946304321289, 164.22277450561523, -696.8572998046875, 522.7928924560547, 389.79549407958984, -202.68333435058594, 84.55787658691406, 399.29094314575195, -290.3444766998291]\n",
      "0.0\n",
      "[315.3236389160156, 159.92408752441406, -672.9012107849121, 527.3874664306641, 395.55384635925293, -198.42437267303467, 91.36157989501953, 395.27918815612793, -278.8755226135254]\n",
      "0.0\n",
      "[313.26635360717773, 163.14788818359375, -672.9402351379395, 525.7864379882812, 402.3317527770996, -218.29742431640625, 86.75003051757812, 398.51466178894043, -273.7253952026367]\n",
      "0.0\n",
      "[314.238224029541, 162.7928352355957, -682.3434448242188, 526.3250732421875, 397.60562896728516, -205.0789976119995, 88.45890045166016, 398.49145889282227, -278.65367889404297]\n",
      "0.0\n",
      "[313.9458656311035, 163.21792602539062, -674.945011138916, 522.35595703125, 394.41959381103516, -195.2851438522339, 90.95258712768555, 396.2299919128418, -278.98698806762695]\n",
      "0.0\n",
      "[311.9399642944336, 163.20711135864258, -697.6944351196289, 523.7895584106445, 391.60388946533203, -204.2699146270752, 87.962646484375, 397.09951400756836, -284.1453266143799]\n",
      "0.0\n",
      "[312.83687591552734, 163.80586624145508, -670.5582618713379, 527.3595428466797, 394.31928634643555, -203.12905311584473, 86.18818283081055, 397.41954803466797, -278.6414051055908]\n",
      "0.0\n",
      "[314.50292587280273, 165.66804885864258, -730.5658721923828, 526.8389129638672, 399.82927322387695, -200.1558780670166, 87.00773239135742, 396.02514266967773, -307.56031036376953]\n",
      "0.0\n",
      "[311.9125747680664, 165.39911270141602, -724.3828010559082, 525.0802612304688, 400.42430877685547, -218.4177017211914, 91.5093994140625, 394.89938735961914, -274.58327293395996]\n",
      "0.0\n",
      "[317.01101303100586, 168.533935546875, -786.7022323608398, 525.4723358154297, 404.26076889038086, -250.02219200134277, 87.39356994628906, 398.26555252075195, -300.4871463775635]\n",
      "0.0\n",
      "[323.6698913574219, 170.44634342193604, -821.1894035339355, 528.966178894043, 404.8237609863281, -251.7598056793213, 84.80855941772461, 399.4768810272217, -314.1488456726074]\n",
      "0.0\n",
      "[333.92330169677734, 164.89110946655273, -802.9157638549805, 532.8728103637695, 398.2464408874512, -158.8555383682251, 86.58802032470703, 397.11496353149414, -341.4253807067871]\n",
      "0.0\n",
      "[338.1956481933594, 168.27919006347656, -798.9396286010742, 537.0512771606445, 400.2221488952637, -246.83672904968262, 71.34863376617432, 401.2165832519531, -315.03650665283203]\n",
      "0.0\n",
      "[340.00110626220703, 174.4250249862671, -808.9469718933105, 537.6506423950195, 390.42205810546875, -234.57130908966064, 78.943772315979, 398.5521984100342, -322.5464057922363]\n",
      "0.0\n",
      "[339.5519256591797, 180.93462467193604, -845.1376533508301, 543.7349700927734, 398.2200050354004, -261.51254653930664, 75.90320587158203, 401.92434310913086, -329.6256923675537]\n",
      "0.0\n",
      "[336.0013198852539, 179.07159805297852, -817.8837776184082, 537.3217010498047, 399.9942398071289, -246.26978874206543, 70.08841037750244, 402.2125053405762, -327.34740257263184]\n",
      "0.0\n"
     ]
    }
   ],
   "source": [
    "\n",
    "def main():\n",
    "    # Initialize the webcam\n",
    "    cap = cv2.VideoCapture(0)  # 0 represents the default webcam, change it if you have multiple webcams\n",
    "    \n",
    "    # Check if the webcam is opened correctly\n",
    "    if not cap.isOpened():\n",
    "        print(\"Error: Unable to access the webcam.\")\n",
    "        return\n",
    "    \n",
    "    while True:\n",
    "        # Capture frame-by-frame\n",
    "        ret, frame = cap.read()\n",
    "        \n",
    "        # Check if the frame is captured correctly\n",
    "        if not ret:\n",
    "            print(\"Error: Unable to capture frame.\")\n",
    "            break\n",
    "        \n",
    "        pose=mp_pose.Pose()\n",
    "        x = process_image(frame,pose)\n",
    "        print(x)\n",
    "        res= slouch_detector(torch.tensor(x))\n",
    "        print(res)\n",
    "        # Display the captured frame\n",
    "        cv2.imshow('Webcam', frame)\n",
    "        \n",
    "        # Break the loop if 'q' is pressed\n",
    "        if cv2.waitKey(1) & 0xFF == ord('q'):\n",
    "            break\n",
    "    \n",
    "    # Release the webcam and close all OpenCV windows\n",
    "    cap.release()\n",
    "    cv2.destroyAllWindows()\n",
    "\n",
    "if __name__ == \"__main__\":\n",
    "    main()\n"
   ]
  },
  {
   "cell_type": "code",
   "execution_count": null,
   "metadata": {},
   "outputs": [],
   "source": []
  }
 ],
 "metadata": {
  "kernelspec": {
   "display_name": "pytorch_stuff",
   "language": "python",
   "name": "python3"
  },
  "language_info": {
   "codemirror_mode": {
    "name": "ipython",
    "version": 3
   },
   "file_extension": ".py",
   "mimetype": "text/x-python",
   "name": "python",
   "nbconvert_exporter": "python",
   "pygments_lexer": "ipython3",
   "version": "3.10.13"
  }
 },
 "nbformat": 4,
 "nbformat_minor": 2
}
